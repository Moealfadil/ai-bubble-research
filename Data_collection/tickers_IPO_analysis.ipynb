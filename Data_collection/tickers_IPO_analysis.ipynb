{
 "cells": [
  {
   "cell_type": "markdown",
   "id": "9b09de62",
   "metadata": {},
   "source": [
    "# 📊 IPO Analysis of ETF Tickers  \n",
    "\n",
    "In this notebook, we analyze the tickers listed in the **`aiq_20250930.csv`** file to determine their **Initial Public Offering (IPO) dates**.  \n",
    "This step is important because:  \n",
    "\n",
    "- It allows us to identify which tickers are **recently listed**.  \n",
    "- By filtering out newer tickers, we can ensure a **longer and more consistent analysis period** across all companies.  \n",
    "- This foundation will later help us focus only on stocks with sufficient historical data for deeper trend and performance analysis.  \n"
   ]
  },
  {
   "cell_type": "markdown",
   "id": "0a9a6fd1",
   "metadata": {},
   "source": [
    "### 📦 Importing Required Libraries\n",
    "We import the main Python libraries needed for our analysis:\n",
    "- **pandas**: for data manipulation and handling CSV files  \n",
    "- **yfinance**: to fetch stock data, IPO info, and historical prices  \n",
    "- **matplotlib**: for data visualization and plotting charts "
   ]
  },
  {
   "cell_type": "code",
   "execution_count": 2,
   "id": "44a7426c",
   "metadata": {},
   "outputs": [],
   "source": [
    "import pandas as pd\n",
    "import yfinance as yf\n",
    "import matplotlib.pyplot as plt"
   ]
  },
  {
   "cell_type": "markdown",
   "id": "61a8e8da",
   "metadata": {},
   "source": [
    "### 📂 Load the CSV File  \n",
    "\n",
    "We load the **`aiq_20250930.csv`** file into a pandas DataFrame.  \n",
    "- The `skiprows=2` option is used to remove the first two rows, which contain metadata rather than actual ticker data.  \n",
    "- Finally, we display the first few rows using `.head()` to confirm the dataset has loaded correctly.  \n"
   ]
  },
  {
   "cell_type": "code",
   "execution_count": null,
   "id": "b76973be",
   "metadata": {},
   "outputs": [
    {
     "data": {
      "text/html": [
       "<div>\n",
       "<style scoped>\n",
       "    .dataframe tbody tr th:only-of-type {\n",
       "        vertical-align: middle;\n",
       "    }\n",
       "\n",
       "    .dataframe tbody tr th {\n",
       "        vertical-align: top;\n",
       "    }\n",
       "\n",
       "    .dataframe thead th {\n",
       "        text-align: right;\n",
       "    }\n",
       "</style>\n",
       "<table border=\"1\" class=\"dataframe\">\n",
       "  <thead>\n",
       "    <tr style=\"text-align: right;\">\n",
       "      <th></th>\n",
       "      <th>% of Net Assets</th>\n",
       "      <th>Ticker</th>\n",
       "      <th>Name</th>\n",
       "      <th>SEDOL</th>\n",
       "      <th>Market Price ($)</th>\n",
       "      <th>Shares Held</th>\n",
       "      <th>Market Value ($)</th>\n",
       "    </tr>\n",
       "  </thead>\n",
       "  <tbody>\n",
       "    <tr>\n",
       "      <th>0</th>\n",
       "      <td>3.97</td>\n",
       "      <td>BABA</td>\n",
       "      <td>ALIBABA GRP-ADR</td>\n",
       "      <td>BP41ZD1</td>\n",
       "      <td>178.73</td>\n",
       "      <td>1,350,347.00</td>\n",
       "      <td>241,347,519.31</td>\n",
       "    </tr>\n",
       "    <tr>\n",
       "      <th>1</th>\n",
       "      <td>3.64</td>\n",
       "      <td>TSLA</td>\n",
       "      <td>TESLA INC</td>\n",
       "      <td>B616C79</td>\n",
       "      <td>444.72</td>\n",
       "      <td>496,997.00</td>\n",
       "      <td>221,024,505.84</td>\n",
       "    </tr>\n",
       "    <tr>\n",
       "      <th>2</th>\n",
       "      <td>3.48</td>\n",
       "      <td>GOOGL</td>\n",
       "      <td>ALPHABET INC-CL A</td>\n",
       "      <td>BYVY8G0</td>\n",
       "      <td>243.1</td>\n",
       "      <td>870,506.00</td>\n",
       "      <td>211,620,008.60</td>\n",
       "    </tr>\n",
       "    <tr>\n",
       "      <th>3</th>\n",
       "      <td>3.38</td>\n",
       "      <td>005930 KS</td>\n",
       "      <td>SAMSUNG ELECTRON</td>\n",
       "      <td>6771720</td>\n",
       "      <td>59.8</td>\n",
       "      <td>3,437,126.00</td>\n",
       "      <td>205,534,279.89</td>\n",
       "    </tr>\n",
       "    <tr>\n",
       "      <th>4</th>\n",
       "      <td>3.33</td>\n",
       "      <td>700 HK</td>\n",
       "      <td>TENCENT HOLDINGS LTD</td>\n",
       "      <td>BMMV2K8</td>\n",
       "      <td>85.21</td>\n",
       "      <td>2,377,818.00</td>\n",
       "      <td>202,623,686.96</td>\n",
       "    </tr>\n",
       "  </tbody>\n",
       "</table>\n",
       "</div>"
      ],
      "text/plain": [
       "  % of Net Assets     Ticker                  Name    SEDOL Market Price ($)  \\\n",
       "0            3.97       BABA       ALIBABA GRP-ADR  BP41ZD1           178.73   \n",
       "1            3.64       TSLA             TESLA INC  B616C79           444.72   \n",
       "2            3.48      GOOGL     ALPHABET INC-CL A  BYVY8G0            243.1   \n",
       "3            3.38  005930 KS      SAMSUNG ELECTRON  6771720             59.8   \n",
       "4            3.33     700 HK  TENCENT HOLDINGS LTD  BMMV2K8            85.21   \n",
       "\n",
       "    Shares Held Market Value ($)  \n",
       "0  1,350,347.00   241,347,519.31  \n",
       "1    496,997.00   221,024,505.84  \n",
       "2    870,506.00   211,620,008.60  \n",
       "3  3,437,126.00   205,534,279.89  \n",
       "4  2,377,818.00   202,623,686.96  "
      ]
     },
     "execution_count": 14,
     "metadata": {},
     "output_type": "execute_result"
    }
   ],
   "source": [
    "file_path = r\"...\\ai-bubble-research\\Data_collection\\aiq_holdings\\aiq_20250930.csv\" # Update with your actual file path\n",
    "top_holdings_df = pd.read_csv(file_path, skiprows=2)\n",
    "top_holdings_df.head()"
   ]
  },
  {
   "cell_type": "markdown",
   "id": "9fc11fe9",
   "metadata": {},
   "source": [
    "### 🛠️ Standardizing Tickers and Extracting IPO Dates  \n",
    "\n",
    "In this step, we:  \n",
    "1. **Rename columns** for clarity and consistency.  \n",
    "2. **Drop rows with missing tickers** to avoid errors.  \n",
    "3. **Standardize ticker formats**:  \n",
    "   - Different exchanges use different suffixes (e.g., `.HK` for Hong Kong, `.DE` for Germany, `.T` for Tokyo).  \n",
    "   - Some tickers need **manual remapping** because Yahoo Finance uses slightly different codes.  \n",
    "4. Define helper functions:  \n",
    "   - `get_ipo_date(ticker)`: Fetches the IPO date using Yahoo Finance, falling back to the earliest historical price if needed.  \n",
    "   - `fix_ticker_format(ticker)`: Corrects ticker symbols using a custom mapping dictionary.  \n",
    "5. Build an **IPO dictionary** mapping each original ticker to its IPO date.  \n"
   ]
  },
  {
   "cell_type": "code",
   "execution_count": 15,
   "id": "8550d8de",
   "metadata": {},
   "outputs": [
    {
     "name": "stdout",
     "output_type": "stream",
     "text": [
      "{'BABA': datetime.date(2014, 9, 19), 'TSLA': datetime.date(2010, 6, 29), 'GOOGL': datetime.date(2004, 8, 19), '005930 KS': datetime.date(2000, 1, 4), '700 HK': datetime.date(2004, 6, 16), 'AAPL': datetime.date(1980, 12, 12), 'PLTR': datetime.date(2020, 9, 30), 'ORCL': datetime.date(1986, 3, 12), 'TSM': datetime.date(1997, 10, 9), 'AVGO': datetime.date(2009, 8, 6), 'NVDA': datetime.date(1999, 1, 22), 'META': datetime.date(2012, 5, 18), 'MSFT': datetime.date(1986, 3, 13), 'AMD': datetime.date(1980, 3, 17), 'NFLX': datetime.date(2002, 5, 23), 'IBM': datetime.date(1962, 1, 2), 'CSCO': datetime.date(1990, 2, 16), 'AMZN': datetime.date(1997, 5, 15), 'CRM': datetime.date(2004, 6, 23), 'APP': datetime.date(2021, 4, 15), 'SIE GR': datetime.date(1996, 11, 8), 'UBER': datetime.date(2019, 5, 10), 'NOW': datetime.date(2012, 6, 29), 'MU': datetime.date(1984, 6, 1), 'QCOM': datetime.date(1991, 12, 13), 'SHOP': datetime.date(2015, 5, 20), '000660 KS': datetime.date(2000, 1, 4), 'ACN': datetime.date(2001, 7, 19), 'ADBE': datetime.date(1986, 8, 13), 'INTC': datetime.date(1980, 3, 17), 'CDNS': datetime.date(1987, 6, 10), 'SNPS': datetime.date(1992, 2, 26), '3690 HK': datetime.date(2018, 9, 20), 'SNOW': datetime.date(2020, 9, 16), 'MRVL': datetime.date(2000, 6, 30), 'TRI': datetime.date(2002, 6, 12), 'FTNT': datetime.date(2009, 11, 18), 'NXPI': datetime.date(2010, 8, 6), 'WDAY': datetime.date(2012, 10, 12), 'IFX GR': datetime.date(2000, 3, 13), 'CRWV': datetime.date(2025, 3, 28), 'STX': datetime.date(2002, 12, 11), '6702 JP': datetime.date(2000, 1, 4), '5803 JP': datetime.date(2000, 1, 4), 'ZS': datetime.date(2018, 3, 16), 'EXPN LN': datetime.date(2006, 10, 9), 'DDOG': datetime.date(2019, 9, 19), 'HUT': datetime.date(2018, 3, 8), '6701 JP': datetime.date(2000, 1, 4), 'PONY': datetime.date(2024, 11, 27), 'BIDU': datetime.date(2005, 8, 5), 'STNE': datetime.date(2018, 10, 25), 'CYBR': datetime.date(2014, 9, 24), 'SOUN': datetime.date(2022, 4, 28), 'GEHC': datetime.date(2022, 12, 15), 'AMBA': datetime.date(2012, 10, 10), '4755 JP': datetime.date(2000, 4, 19), 'WKL NA': datetime.date(1995, 3, 27), 'HPE': datetime.date(2015, 10, 19), 'WIX': datetime.date(2013, 11, 6), '3443 TT': datetime.date(2006, 11, 3), 'ERIC': datetime.date(1981, 8, 24), 'PATH': datetime.date(2021, 4, 21), 'QUBT': datetime.date(2007, 2, 1), 'TIETO FH': datetime.date(2000, 1, 3), 'SMCI': datetime.date(2007, 3, 29), '6954 JP': datetime.date(2000, 1, 4), 'INFA': datetime.date(2021, 10, 27), '6526 JP': datetime.date(2022, 10, 12), 'WRD': datetime.date(2024, 10, 25), 'PEGA': datetime.date(1996, 7, 19), '6588 JP': datetime.date(2001, 1, 1), 'TDC': datetime.date(2007, 10, 1), '2353 TT': datetime.date(2000, 1, 4), 'OKTA': datetime.date(2017, 4, 7), 'DXC': datetime.date(1981, 12, 31), 'CCCS': datetime.date(2020, 10, 5), 'G': datetime.date(2007, 8, 2), 'VRNT': datetime.date(2002, 5, 16), '2395 TT': datetime.date(2000, 1, 4), 'NICE': datetime.date(1996, 1, 25), 'ZBRA': datetime.date(1991, 8, 15), 'TEMN SW': datetime.date(2025, 4, 14), 'TTD': datetime.date(2016, 9, 21), 'SNAP': datetime.date(2017, 3, 2), 'TWLO': datetime.date(2016, 6, 23), 'AMP IM': datetime.date(2001, 10, 1), 'AI': datetime.date(2020, 12, 9)}\n"
     ]
    }
   ],
   "source": [
    "# Standardize columns\n",
    "top_holdings_df.columns = [\"Weight\", \"Ticker\", \"Name\", \"SEDOL\", \"Price\", \"Shares Held\", \"Market Value\"]\n",
    "\n",
    "# Drop rows with missing tickers\n",
    "top_holdings_df = top_holdings_df.dropna(subset=[\"Ticker\"])\n",
    "\n",
    "tickers = top_holdings_df[\"Ticker\"].unique().tolist()\n",
    "manual_map = {\n",
    "    \"700.HK\": \"0700.HK\",       # Tencent (needs leading zero)\n",
    "    \"SIE.GR\": \"SIE.DE\",        # Siemens trades in Germany (.DE not .GR)\n",
    "    \"IFX.GR\": \"IFX.DE\",        # Infineon Technologies\n",
    "    \"6702.JP\": \"6702.T\",       # Fujitsu (Tokyo exchange)\n",
    "    \"5803.JP\": \"5803.T\",       # Fujikura\n",
    "    \"EXPN.LN\": \"EXPN.L\",       # Experian (London Stock Exchange)\n",
    "    \"6701.JP\": \"6701.T\",       # NEC Corp\n",
    "    \"4755.JP\": \"4755.T\",       # Rakuten\n",
    "    \"WKL.NA\": \"WKL.AS\",        # Wolters Kluwer (Euronext Amsterdam)\n",
    "    \"3443.TT\": \"3443.TW\",      # Chinese stock (Taiwan Exchange)\n",
    "    \"TIETO.FH\": \"TIETO.HE\",    # TietoEVRY (Helsinki Exchange)\n",
    "    \"6954.JP\": \"6954.T\",       # Fanuc\n",
    "    \"6526.JP\": \"6526.T\",       # Socionext Inc\n",
    "    \"6588.JP\": \"6588.T\",       # Toshiba Tec Corp\n",
    "    \"2353.TT\": \"2353.TW\",      # Acer\n",
    "    \"2395.TT\": \"2395.TW\",      # Advantech\n",
    "    \"AMP.IM\": \"AMP.MI\",        # Amplifon (Italy, Milan Exchange)\n",
    "}\n",
    "\n",
    "def get_ipo_date(ticker):\n",
    "    try:\n",
    "        stock = yf.Ticker(ticker)\n",
    "        ipo_ts = stock.info.get(\"firstTradeDateEpochSeconds\", None)\n",
    "        if ipo_ts:\n",
    "            return pd.to_datetime(ipo_ts, unit=\"s\").date()\n",
    "        hist = stock.history(period=\"max\")\n",
    "        if not hist.empty:\n",
    "            return hist.index[0].date()\n",
    "    except Exception as e:\n",
    "        return None\n",
    "    return None\n",
    "\n",
    "def fix_ticker_format(ticker):\n",
    "    # Convert spaces to dots (Yahoo's format)\n",
    "    ticker = ticker.replace(\" \", \".\")\n",
    "    if ticker in manual_map:\n",
    "        return manual_map[ticker]\n",
    "    return ticker\n",
    "\n",
    "\n",
    "# Build dictionary\n",
    "ipo_dict = {}\n",
    "for ticker in tickers:\n",
    "    yf_ticker = fix_ticker_format(ticker)\n",
    "    ipo_dict[ticker] = get_ipo_date(yf_ticker)\n",
    "\n",
    "\n",
    "print(ipo_dict)"
   ]
  },
  {
   "cell_type": "markdown",
   "id": "3b3dd9c9",
   "metadata": {},
   "source": [
    "### IPO Distribution Analysis  \n",
    "\n",
    "After extracting IPO dates for each ticker, we convert them into a DataFrame and analyze the distribution of IPOs over time.  \n",
    "To do this, we:  \n",
    "1. Convert the ticker–IPO date dictionary into a structured DataFrame.  \n",
    "2. Parse and standardize the IPO dates.  \n",
    "3. Extract the IPO year for each company.  \n",
    "4. Plot a histogram to visualize how many companies went public in each year.  \n",
    "\n",
    "This helps us understand whether most tickers are recent IPOs or if they have a long trading history — important when deciding which tickers to exclude for long-term analysis.  \n"
   ]
  },
  {
   "cell_type": "code",
   "execution_count": 16,
   "id": "6d6c8220",
   "metadata": {},
   "outputs": [
    {
     "data": {
      "image/png": "[encoded data removed]",
      "text/plain": [
       "<Figure size 1000x600 with 1 Axes>"
      ]
     },
     "metadata": {},
     "output_type": "display_data"
    }
   ],
   "source": [
    "# Convert dict → DataFrame\n",
    "IPO_date_df = pd.DataFrame(list(ipo_dict.items()), columns=[\"Ticker\", \"IPO_Date\"])\n",
    "IPO_date_df[\"IPO_Date\"] = pd.to_datetime(IPO_date_df[\"IPO_Date\"])\n",
    "\n",
    "# Extract just the year\n",
    "IPO_date_df[\"Year\"] = IPO_date_df[\"IPO_Date\"].dt.year\n",
    "\n",
    "# Histogram of IPOs per year\n",
    "plt.figure(figsize=(10,6))\n",
    "plt.hist(IPO_date_df[\"Year\"], bins=range(IPO_date_df[\"Year\"].min(), IPO_date_df[\"Year\"].max()+2), \n",
    "         color=\"skyblue\", edgecolor=\"black\", rwidth=0.9)\n",
    "\n",
    "plt.xlabel(\"IPO Year\", fontsize=12)\n",
    "plt.ylabel(\"Number of Companies\", fontsize=12)\n",
    "plt.title(\"Distribution of IPOs Over Time\", fontsize=15, fontweight=\"bold\")\n",
    "plt.grid(axis=\"y\", linestyle=\"--\", alpha=0.7)\n",
    "\n",
    "plt.tight_layout()\n",
    "plt.show()"
   ]
  },
  {
   "cell_type": "markdown",
   "id": "62704f51",
   "metadata": {},
   "source": [
    "### Cumulative IPO Counts for Key Years (2015–2025)\n",
    "\n",
    "In this section, we calculate the **cumulative number of tickers that IPO’d before selected years**: 2015, 2016, 2017, 2018, 2019, 2020, and 2025.  \n",
    "\n",
    "We chose these years because the **AI industry experienced a breakout period between 2015 and 2020**, marked by major advances in deep learning, the rise of large-scale datasets, and the deployment of AI into real-world applications.  \n",
    "By including 2025, we also capture the most recent cumulative state of IPOs in our dataset, allowing us to understand how the ticker universe expanded during and after this key period.  \n",
    "\n",
    "We will present the results in both a **table** and a **graph** to highlight how the number of available companies for analysis grew over time.\n"
   ]
  },
  {
   "cell_type": "code",
   "execution_count": 17,
   "id": "73dfa9e6",
   "metadata": {},
   "outputs": [
    {
     "data": {
      "text/html": [
       "<div>\n",
       "<style scoped>\n",
       "    .dataframe tbody tr th:only-of-type {\n",
       "        vertical-align: middle;\n",
       "    }\n",
       "\n",
       "    .dataframe tbody tr th {\n",
       "        vertical-align: top;\n",
       "    }\n",
       "\n",
       "    .dataframe thead th {\n",
       "        text-align: right;\n",
       "    }\n",
       "</style>\n",
       "<table border=\"1\" class=\"dataframe\">\n",
       "  <thead>\n",
       "    <tr style=\"text-align: right;\">\n",
       "      <th></th>\n",
       "      <th>Year</th>\n",
       "      <th>Cumulative_IPOs</th>\n",
       "    </tr>\n",
       "  </thead>\n",
       "  <tbody>\n",
       "    <tr>\n",
       "      <th>0</th>\n",
       "      <td>2015</td>\n",
       "      <td>64</td>\n",
       "    </tr>\n",
       "    <tr>\n",
       "      <th>1</th>\n",
       "      <td>2016</td>\n",
       "      <td>66</td>\n",
       "    </tr>\n",
       "    <tr>\n",
       "      <th>2</th>\n",
       "      <td>2017</td>\n",
       "      <td>68</td>\n",
       "    </tr>\n",
       "    <tr>\n",
       "      <th>3</th>\n",
       "      <td>2018</td>\n",
       "      <td>72</td>\n",
       "    </tr>\n",
       "    <tr>\n",
       "      <th>4</th>\n",
       "      <td>2019</td>\n",
       "      <td>74</td>\n",
       "    </tr>\n",
       "    <tr>\n",
       "      <th>5</th>\n",
       "      <td>2020</td>\n",
       "      <td>78</td>\n",
       "    </tr>\n",
       "    <tr>\n",
       "      <th>6</th>\n",
       "      <td>2025</td>\n",
       "      <td>88</td>\n",
       "    </tr>\n",
       "  </tbody>\n",
       "</table>\n",
       "</div>"
      ],
      "text/plain": [
       "   Year  Cumulative_IPOs\n",
       "0  2015               64\n",
       "1  2016               66\n",
       "2  2017               68\n",
       "3  2018               72\n",
       "4  2019               74\n",
       "5  2020               78\n",
       "6  2025               88"
      ]
     },
     "metadata": {},
     "output_type": "display_data"
    },
    {
     "data": {
      "image/png": "[encoded data removed]",
      "text/plain": [
       "<Figure size 800x500 with 1 Axes>"
      ]
     },
     "metadata": {},
     "output_type": "display_data"
    }
   ],
   "source": [
    "# Define target years\n",
    "target_years = [2015, 2016, 2017, 2018, 2019, 2020, 2025]\n",
    "\n",
    "# Count cumulative IPOs up to each year\n",
    "cumulative_counts = []\n",
    "for year in target_years:\n",
    "    count = (IPO_date_df[\"Year\"] <= year).sum()\n",
    "    cumulative_counts.append(count)\n",
    "\n",
    "# Create a DataFrame for display\n",
    "cum_df = pd.DataFrame({\n",
    "    \"Year\": target_years,\n",
    "    \"Cumulative_IPOs\": cumulative_counts\n",
    "})\n",
    "\n",
    "display(cum_df)\n",
    "\n",
    "# Plot cumulative IPOs over selected years\n",
    "plt.figure(figsize=(8,5))\n",
    "plt.plot(cum_df[\"Year\"], cum_df[\"Cumulative_IPOs\"], marker=\"o\", color=\"royalblue\", linewidth=2)\n",
    "\n",
    "plt.xlabel(\"Year\", fontsize=12)\n",
    "plt.ylabel(\"Cumulative Number of IPOs\", fontsize=12)\n",
    "plt.title(\"Cumulative IPOs Before Selected Years\", fontsize=14, fontweight=\"bold\")\n",
    "plt.grid(True, linestyle=\"--\", alpha=0.6)\n",
    "\n",
    "plt.show()\n"
   ]
  },
  {
   "cell_type": "markdown",
   "id": "560f575b",
   "metadata": {},
   "source": [
    "### Identifying Recently Listed Companies (2015–2025)\n",
    "\n",
    "In this step, we merge the IPO date information back with the original company names from our dataset.  \n",
    "By filtering for IPOs that occurred between **2015 and 2025**, we can highlight companies that only appeared in the market relatively recently.  \n",
    "\n",
    "This gives us **better insight into which stocks are “new players”** in the AI investment space. Such companies may not have long trading histories, which could introduce bias or distortions if we were to include them in a long-term performance analysis.  \n",
    "\n",
    "The resulting table provides a clear overview of these recent IPOs along with their company names and listing dates.\n"
   ]
  },
  {
   "cell_type": "code",
   "execution_count": 18,
   "id": "de0dd7ae",
   "metadata": {},
   "outputs": [
    {
     "name": "stdout",
     "output_type": "stream",
     "text": [
      "     Ticker                       Name   IPO_Date\n",
      "6      PLTR           PALANTIR TECHN-A 2020-09-30\n",
      "19      APP      APPLOVIN CORP-CLASS A 2021-04-15\n",
      "21     UBER      UBER TECHNOLOGIES INC 2019-05-10\n",
      "25     SHOP      SHOPIFY INC - CLASS A 2015-05-20\n",
      "32  3690 HK            MEITUAN-CLASS B 2018-09-20\n",
      "33     SNOW              SNOWFLAKE INC 2020-09-16\n",
      "40     CRWV         COREWEAVE INC-CL A 2025-03-28\n",
      "44       ZS                ZSCALER INC 2018-03-16\n",
      "46     DDOG      DATADOG INC - CLASS A 2019-09-19\n",
      "47      HUT                 HUT 8 CORP 2018-03-08\n",
      "49     PONY                PONY AI INC 2024-11-27\n",
      "51     STNE              STONECO LTD-A 2018-10-25\n",
      "53     SOUN        SOUNDHOUND AI INC-A 2022-04-28\n",
      "54     GEHC   GE HEALTHCARE TECHNOLOGY 2022-12-15\n",
      "58      HPE              HEWLETT PACKA 2015-10-19\n",
      "62     PATH       UIPATH INC - CLASS A 2021-04-21\n",
      "67     INFA  INFORMATICA INC - CLASS A 2021-10-27\n",
      "68  6526 JP              SOCIONEXT INC 2022-10-12\n",
      "69      WRD             WERIDE INC-ADR 2024-10-25\n",
      "74     OKTA                   OKTA INC 2017-04-07\n",
      "76     CCCS            CCC INTELLIGENT 2020-10-05\n",
      "82  TEMN SW           TEMENOS AG - REG 2025-04-14\n",
      "83      TTD           TRADE DESK INC-A 2016-09-21\n",
      "84     SNAP               SNAP INC - A 2017-03-02\n",
      "85     TWLO             TWILIO INC - A 2016-06-23\n",
      "87       AI                C3.AI INC-A 2020-12-09\n"
     ]
    }
   ],
   "source": [
    "# Merge IPO info back with original company names\n",
    "ipo_with_names = IPO_date_df.merge(\n",
    "    top_holdings_df[[\"Ticker\", \"Name\"]],  # use original dataframe with names\n",
    "    on=\"Ticker\",\n",
    "    how=\"left\"\n",
    ")\n",
    "\n",
    "# Filter IPOs between 2020 and 2025\n",
    "recent_ipos = ipo_with_names[(ipo_with_names[\"Year\"] >= 2015) & (ipo_with_names[\"Year\"] <= 2025)]\n",
    "\n",
    "# Display as table\n",
    "print(recent_ipos[[\"Ticker\", \"Name\", \"IPO_Date\"]])"
   ]
  }
 ],
 "metadata": {
  "kernelspec": {
   "display_name": "Python 3",
   "language": "python",
   "name": "python3"
  },
  "language_info": {
   "codemirror_mode": {
    "name": "ipython",
    "version": 3
   },
   "file_extension": ".py",
   "mimetype": "text/x-python",
   "name": "python",
   "nbconvert_exporter": "python",
   "pygments_lexer": "ipython3",
   "version": "3.9.12"
  }
 },
 "nbformat": 4,
 "nbformat_minor": 5
}
