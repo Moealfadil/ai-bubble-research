{
 "cells": [
  {
   "cell_type": "markdown",
   "id": "9b09de62",
   "metadata": {},
   "source": [
    "# 📊 IPO Analysis of ETF Tickers  \n",
    "\n",
    "In this notebook, we analyze the tickers listed in the **`merged_tickers.csv`** file to determine their **Initial Public Offering (IPO) dates**.  \n",
    "This step is important because:  \n",
    "\n",
    "- It allows us to identify which tickers are **recently listed**.  \n",
    "- By filtering out newer tickers, we can ensure a **longer and more consistent analysis period** across all companies.  \n",
    "- This foundation will later help us focus only on stocks with sufficient historical data for deeper trend and performance analysis.  \n"
   ]
  },
  {
   "cell_type": "markdown",
   "id": "0a9a6fd1",
   "metadata": {},
   "source": [
    "### 📦 Importing Required Libraries\n",
    "We import the main Python libraries needed for our analysis:\n",
    "- **pandas**: for data manipulation and handling CSV files  \n",
    "- **yfinance**: to fetch stock data, IPO info, and historical prices  \n",
    "- **matplotlib**: for data visualization and plotting charts "
   ]
  },
  {
   "cell_type": "code",
   "execution_count": 1,
   "id": "44a7426c",
   "metadata": {},
   "outputs": [],
   "source": [
    "import pandas as pd\n",
    "import yfinance as yf\n",
    "import matplotlib.pyplot as plt\n",
    "import os"
   ]
  },
  {
   "cell_type": "markdown",
   "id": "61a8e8da",
   "metadata": {},
   "source": [
    "### 📂 Load the CSV File  \n",
    "\n",
    "We load the **`merged_tickers.csv`** file into a pandas DataFrame, we display the first few rows using `.head()` to confirm the dataset has loaded correctly.  \n"
   ]
  },
  {
   "cell_type": "code",
   "execution_count": 2,
   "id": "b76973be",
   "metadata": {},
   "outputs": [
    {
     "data": {
      "text/html": [
       "<div>\n",
       "<style scoped>\n",
       "    .dataframe tbody tr th:only-of-type {\n",
       "        vertical-align: middle;\n",
       "    }\n",
       "\n",
       "    .dataframe tbody tr th {\n",
       "        vertical-align: top;\n",
       "    }\n",
       "\n",
       "    .dataframe thead th {\n",
       "        text-align: right;\n",
       "    }\n",
       "</style>\n",
       "<table border=\"1\" class=\"dataframe\">\n",
       "  <thead>\n",
       "    <tr style=\"text-align: right;\">\n",
       "      <th></th>\n",
       "      <th>Ticker</th>\n",
       "      <th>Name</th>\n",
       "    </tr>\n",
       "  </thead>\n",
       "  <tbody>\n",
       "    <tr>\n",
       "      <th>0</th>\n",
       "      <td>QCOM</td>\n",
       "      <td>QUALCOMM INC</td>\n",
       "    </tr>\n",
       "    <tr>\n",
       "      <th>1</th>\n",
       "      <td>FB</td>\n",
       "      <td>FACEBOOK INC-CLASS A</td>\n",
       "    </tr>\n",
       "    <tr>\n",
       "      <th>2</th>\n",
       "      <td>SHOP</td>\n",
       "      <td>SHOPIFY INC - CLASS A</td>\n",
       "    </tr>\n",
       "    <tr>\n",
       "      <th>3</th>\n",
       "      <td>3690 HK</td>\n",
       "      <td>MEITUAN DIANPING-CLASS B</td>\n",
       "    </tr>\n",
       "    <tr>\n",
       "      <th>4</th>\n",
       "      <td>AMD</td>\n",
       "      <td>ADVANCED MICRO DEVICES</td>\n",
       "    </tr>\n",
       "  </tbody>\n",
       "</table>\n",
       "</div>"
      ],
      "text/plain": [
       "    Ticker                      Name\n",
       "0     QCOM              QUALCOMM INC\n",
       "1       FB      FACEBOOK INC-CLASS A\n",
       "2     SHOP     SHOPIFY INC - CLASS A\n",
       "3  3690 HK  MEITUAN DIANPING-CLASS B\n",
       "4      AMD    ADVANCED MICRO DEVICES"
      ]
     },
     "execution_count": 2,
     "metadata": {},
     "output_type": "execute_result"
    }
   ],
   "source": [
    "file_path = r\"D:\\MIT\\Develop_Workflow\\ELO2\\ai-bubble-research\\Data_collection\\Tickers\\merged_tickers.csv\" # Update with your actual file path\n",
    "top_holdings_df = pd.read_csv(file_path)\n",
    "top_holdings_df.head()"
   ]
  },
  {
   "cell_type": "markdown",
   "id": "9fc11fe9",
   "metadata": {},
   "source": [
    "### 🛠️ Standardizing Tickers and Extracting IPO Dates  \n",
    "\n",
    "In this step, we:  \n",
    "1. **Rename columns** for clarity and consistency.  \n",
    "2. **Drop rows with missing tickers** to avoid errors.  \n",
    "3. **Standardize ticker formats**:  \n",
    "   - Different exchanges use different suffixes (e.g., `.HK` for Hong Kong, `.DE` for Germany, `.T` for Tokyo).  \n",
    "   - Some tickers need **manual remapping** because Yahoo Finance uses slightly different codes.  \n",
    "4. Define helper functions:  \n",
    "   - `get_ipo_date(ticker)`: Fetches the IPO date using Yahoo Finance, falling back to the earliest historical price if needed.  \n",
    "   - `fix_ticker_format(ticker)`: Corrects ticker symbols using a custom mapping dictionary.  \n",
    "5. Build an **IPO dictionary** mapping each original ticker to its IPO date.  \n"
   ]
  },
  {
   "cell_type": "code",
   "execution_count": 3,
   "id": "8550d8de",
   "metadata": {},
   "outputs": [
    {
     "name": "stderr",
     "output_type": "stream",
     "text": [
      "$SPLK: possibly delisted; no timezone found\n",
      "$TWTR: possibly delisted; no timezone found\n",
      "$STM.MI: possibly delisted; no timezone found\n",
      "$XLNX: possibly delisted; no timezone found\n",
      "$HEXAB.ST: possibly delisted; no price data found  (1d 1926-11-20 -> 2025-10-26)\n",
      "$6502.T: possibly delisted; no timezone found\n",
      "$NLOK: possibly delisted; no timezone found\n",
      "$FEYE: possibly delisted; no timezone found\n",
      "$ZEN: possibly delisted; no timezone found\n",
      "$ENV: possibly delisted; no timezone found\n",
      "$NUAN: possibly delisted; no timezone found\n",
      "$NLSN: possibly delisted; no timezone found\n",
      "$JNPR: possibly delisted; no timezone found\n",
      "$SOW.DE: possibly delisted; no timezone found\n",
      "$LOGM: possibly delisted; no timezone found\n",
      "$CSOD: possibly delisted; no timezone found\n",
      "$PLAN: possibly delisted; no timezone found\n",
      "$CLDR: possibly delisted; no timezone found\n",
      "HTTP Error 404: {\"quoteSummary\":{\"result\":null,\"error\":{\"code\":\"Not Found\",\"description\":\"Quote not found for symbol: 8299.TW\"}}}\n",
      "$8299.TW: possibly delisted; no timezone found\n",
      "$SMAR: possibly delisted; no timezone found\n",
      "$DLG.DE: possibly delisted; no timezone found\n",
      "$ABMD: possibly delisted; no timezone found\n",
      "HTTP Error 404: {\"quoteSummary\":{\"result\":null,\"error\":{\"code\":\"Not Found\",\"description\":\"Quote not found for symbol: 4488.JP\"}}}\n",
      "$4488.JP: possibly delisted; no timezone found\n",
      "$763.HK: possibly delisted; no timezone found\n",
      "$AVV.L: possibly delisted; no timezone found\n",
      "$EXAI: possibly delisted; no timezone found\n",
      "HTTP Error 404: {\"quoteSummary\":{\"result\":null,\"error\":{\"code\":\"Not Found\",\"description\":\"Quote not found for symbol: STMMI.IM\"}}}\n",
      "$STMMI.IM: possibly delisted; no timezone found\n",
      "HTTP Error 404: {\"quoteSummary\":{\"result\":null,\"error\":{\"code\":\"Not Found\",\"description\":\"Quote not found for symbol: 25557878D.TT\"}}}\n",
      "$25557878D.TT: possibly delisted; no timezone found\n",
      "$HOLI: possibly delisted; no timezone found\n"
     ]
    },
    {
     "name": "stdout",
     "output_type": "stream",
     "text": [
      "{'QCOM': datetime.date(1991, 12, 13), 'FB': datetime.date(2025, 6, 26), 'SHOP': datetime.date(2015, 5, 20), '3690.HK': datetime.date(2018, 9, 20), 'AMD': datetime.date(1980, 3, 17), 'NVDA': datetime.date(1999, 1, 22), '005930.KS': datetime.date(2000, 1, 4), 'CRM': datetime.date(2004, 6, 23), 'AMZN': datetime.date(1997, 5, 15), 'MSFT': datetime.date(1986, 3, 13), 'ADBE': datetime.date(1986, 8, 13), 'NFLX': datetime.date(2002, 5, 23), 'SIE.DE': datetime.date(1996, 11, 8), 'NOW': datetime.date(2012, 6, 29), 'BABA': datetime.date(2014, 9, 19), 'CSCO': datetime.date(1990, 2, 16), 'ORCL': datetime.date(1986, 3, 12), 'GOOGL': datetime.date(2004, 8, 19), 'IBM': datetime.date(1962, 1, 2), '0700.HK': datetime.date(2004, 6, 16), 'INTC': datetime.date(1980, 3, 17), 'UBER': datetime.date(2019, 5, 10), 'NOC': datetime.date(1981, 12, 31), 'EBAY': datetime.date(1998, 9, 24), 'TRI': datetime.date(2002, 6, 12), 'BIDU': datetime.date(2005, 8, 5), 'IFX.DE': datetime.date(2000, 3, 13), 'EXPN.L': datetime.date(2006, 10, 9), 'TWLO': datetime.date(2016, 6, 23), 'SPLK': None, 'WDAY': datetime.date(2012, 10, 12), 'VRSK': datetime.date(2009, 10, 7), 'SNPS': datetime.date(1992, 2, 26), '000660.KS': datetime.date(2000, 1, 4), 'TWTR': None, 'MU': datetime.date(1984, 6, 1), 'STM.MI': None, 'SNAP': datetime.date(2017, 3, 2), 'XLNX': None, 'MCHP': datetime.date(1993, 3, 19), 'HEXAB.ST': None, 'FTNT': datetime.date(2009, 11, 18), 'TTD': datetime.date(2016, 9, 21), 'CRWD': datetime.date(2019, 6, 12), 'WIX': datetime.date(2013, 11, 6), 'ZBRA': datetime.date(1991, 8, 15), '6502.T': None, 'NLOK': None, 'LPSN': datetime.date(2000, 4, 7), 'HPE': datetime.date(2015, 10, 19), 'FICO': datetime.date(1987, 7, 22), 'OTEX.TO': datetime.date(1998, 6, 29), 'HUBS': datetime.date(2014, 10, 9), 'STX': datetime.date(2002, 12, 11), 'TME': datetime.date(2018, 12, 12), 'TDC': datetime.date(2007, 10, 1), 'PTC': datetime.date(1989, 12, 8), 'FEYE': None, 'ZEN': None, 'ENV': None, 'STNE': datetime.date(2018, 10, 25), 'DXC': datetime.date(1981, 12, 31), 'NUAN': None, 'PEGA': datetime.date(1996, 7, 19), 'XRO.AX': datetime.date(2012, 11, 8), 'G': datetime.date(2007, 8, 2), 'NTAP': datetime.date(1995, 11, 21), 'CCC.L': datetime.date(1998, 5, 21), 'NLSN': None, 'LSCC': datetime.date(1989, 11, 9), 'JNPR': None, 'BB': datetime.date(1999, 2, 4), 'SOW.DE': None, 'AMBA': datetime.date(2012, 10, 10), 'VRNT': datetime.date(2002, 5, 16), 'LOGM': None, 'CSOD': None, 'PLAN': None, 'CLDR': None, '2344.TW': datetime.date(2000, 1, 4), 'PSTG': datetime.date(2015, 10, 6), '2337.TW': datetime.date(2000, 1, 4), 'YELP': datetime.date(2012, 3, 2), 'PRO': datetime.date(2007, 7, 26), '8299.TW': None, 'ENR.DE': datetime.date(2020, 9, 29), 'AAPL': datetime.date(1980, 12, 12), 'ACN': datetime.date(2001, 7, 19), '6954.T': datetime.date(2000, 1, 4), 'NXPI': datetime.date(2010, 8, 6), 'ERIC': datetime.date(1981, 8, 24), 'CDNS': datetime.date(1987, 6, 10), 'OKTA': datetime.date(2017, 4, 7), 'ZS': datetime.date(2018, 3, 16), 'ROK': datetime.date(1981, 12, 31), 'DDOG': datetime.date(2019, 9, 19), 'WKL.AS': datetime.date(1995, 3, 27), 'UI': datetime.date(2011, 10, 14), 'VSAT': datetime.date(1996, 12, 3), 'CAN': datetime.date(2019, 11, 20), '2353.TW': datetime.date(2000, 1, 4), '5803.T': datetime.date(2000, 1, 4), 'SMAR': None, 'DLG.DE': None, 'AMP.MI': datetime.date(2001, 10, 1), 'VNET': datetime.date(2011, 4, 21), '3665.TW': datetime.date(2011, 4, 21), 'ABMD': None, 'TSEM': datetime.date(1994, 10, 26), 'AFYA': datetime.date(2019, 7, 19), 'TIETO.HE': datetime.date(2000, 1, 3), '4488.JP': None, 'HUBB': datetime.date(1972, 6, 5), '3443.TW': datetime.date(2006, 11, 3), 'UBI.PA': datetime.date(2000, 1, 3), 'SMCI': datetime.date(2007, 3, 29), '763.HK': None, '3661.TW': datetime.date(2012, 10, 5), 'BAH': datetime.date(2010, 11, 18), 'CGNT': datetime.date(2021, 2, 8), 'TSLA': datetime.date(2010, 6, 29), 'META': datetime.date(2012, 5, 18), 'AVV.L': None, '6701.T': datetime.date(2000, 1, 4), '2395.TW': datetime.date(2000, 1, 4), 'CCCS': datetime.date(2020, 10, 5), 'INFA': datetime.date(2021, 10, 27), 'TEMN.SW': datetime.date(2025, 4, 14), 'UPST': datetime.date(2020, 12, 16), 'PATH': datetime.date(2021, 4, 21), 'AI': datetime.date(2020, 12, 9), 'EXAI': None, 'STMMI.IM': None, 'IONQ': datetime.date(2021, 1, 4), '6702.T': datetime.date(2000, 1, 4), 'CYBR': datetime.date(2014, 9, 24), 'PCOR': datetime.date(2021, 5, 20), 'FRSH': datetime.date(2021, 9, 22), 'CGNX': datetime.date(1989, 7, 20), 'BZ': datetime.date(2021, 6, 11), 'GEHC': datetime.date(2022, 12, 15), '6526.T': datetime.date(2022, 10, 12), 'AVGO': datetime.date(2009, 8, 6), 'CLS': datetime.date(1998, 6, 30), '6588.T': datetime.date(2001, 1, 1), '4755.T': datetime.date(2000, 4, 19), 'DOCU': datetime.date(2018, 4, 27), 'TSM': datetime.date(1997, 10, 9), 'PLTR': datetime.date(2020, 9, 30), 'APP': datetime.date(2021, 4, 15), 'MRVL': datetime.date(2000, 6, 30), 'SNOW': datetime.date(2020, 9, 16), 'NICE': datetime.date(1996, 1, 25), 'QUBT': datetime.date(2007, 2, 1), 'SOUN': datetime.date(2022, 4, 28), 'HUT': datetime.date(2018, 3, 8), '25557878D.TT': None, 'CRWV': datetime.date(2025, 3, 28), 'WRD': datetime.date(2024, 10, 25), 'PONY': datetime.date(2024, 11, 27), 'ASML': datetime.date(1995, 3, 15), 'ISRG': datetime.date(2000, 6, 16), 'ANET': datetime.date(2014, 6, 6), 'ARM': datetime.date(2023, 9, 14), 'KLAC': datetime.date(1980, 10, 8), 'PANW': datetime.date(2012, 7, 20), 'TEAM': datetime.date(2015, 12, 9), 'SYM': datetime.date(2021, 3, 9), 'IRM': datetime.date(1996, 2, 1), 'ALAB': datetime.date(2024, 3, 20), 'TER': datetime.date(1973, 2, 21), 'AVAV': datetime.date(2007, 1, 23), 'TEMP': datetime.date(2021, 12, 13), 'EPAM': datetime.date(2012, 2, 8), 'TTEK': datetime.date(1991, 12, 17), 'BBAI': datetime.date(2021, 4, 5), 'RXRX': datetime.date(2021, 4, 16), 'SSTK': datetime.date(2012, 10, 11), 'SPT': datetime.date(2019, 12, 13), 'YRD': datetime.date(2015, 12, 18), 'REKR': datetime.date(2017, 8, 29), 'PDYN': datetime.date(2021, 9, 27), 'IRBT': datetime.date(2005, 11, 9), 'AISP': datetime.date(2021, 5, 10), 'OSS': datetime.date(2018, 2, 1), 'KSCP': datetime.date(2022, 1, 27), 'MDAI': datetime.date(2021, 4, 6), 'NMTC': datetime.date(2018, 3, 15), 'RBOT': datetime.date(2020, 9, 4), 'GFAI': datetime.date(2021, 9, 29), 'KITT': datetime.date(2021, 8, 4), 'HOLI': None, 'ZPTA': datetime.date(2024, 4, 1), 'OTRK': datetime.date(2002, 9, 27)}\n"
     ]
    }
   ],
   "source": [
    "# Standardize columns\n",
    "top_holdings_df.columns = [\"Ticker\", \"Name\"]\n",
    "\n",
    "# Drop rows with missing tickers\n",
    "top_holdings_df = top_holdings_df.dropna(subset=[\"Ticker\"])\n",
    "\n",
    "tickers = top_holdings_df[\"Ticker\"].unique().tolist()\n",
    "manual_map = {\n",
    "    \"700.HK\": \"0700.HK\",       # Tencent (leading zero)\n",
    "    \"SIE.GR\": \"SIE.DE\",        # Siemens\n",
    "    \"IFX.GR\": \"IFX.DE\",        # Infineon Technologies\n",
    "    \"6702.JP\": \"6702.T\",       # Fujitsu\n",
    "    \"5803.JP\": \"5803.T\",       # Fujikura\n",
    "    \"EXPN.LN\": \"EXPN.L\",       # Experian\n",
    "    \"6701.JP\": \"6701.T\",       # NEC Corp\n",
    "    \"4755.JP\": \"4755.T\",       # Rakuten\n",
    "    \"WKL.NA\": \"WKL.AS\",        # Wolters Kluwer\n",
    "    \"3443.TT\": \"3443.TW\",      # Taiwanese stock\n",
    "    \"TIETO.FH\": \"TIETO.HE\",    # TietoEVRY\n",
    "    \"6954.JP\": \"6954.T\",       # Fanuc\n",
    "    \"6526.JP\": \"6526.T\",       # Socionext\n",
    "    \"6588.JP\": \"6588.T\",       # Toshiba Tec\n",
    "    \"2353.TT\": \"2353.TW\",      # Acer\n",
    "    \"2395.TT\": \"2395.TW\",      # Advantech\n",
    "    \"AMP.IM\": \"AMP.MI\",        # Amplifon\n",
    "    \"STM.IM\": \"STM.MI\",        # STMicroelectronics (Milan)\n",
    "    \"HEXAB.SS\": \"HEXAB.ST\",    # Hexagon AB (Stockholm)\n",
    "    \"OTEX.CN\": \"OTEX.TO\",      # OpenText (Toronto)\n",
    "    \"XRO.AU\": \"XRO.AX\",        # Xero Ltd (Australia)\n",
    "    \"CCC.LN\": \"CCC.L\",         # Computacenter (London)\n",
    "    \"SOW.GR\": \"SOW.DE\",        # Software AG (Germany)\n",
    "    \"ENR.GR\": \"ENR.DE\",        # Energiekontor AG (Germany)\n",
    "    \"DLG.GR\": \"DLG.DE\",        # Dialog Semiconductor\n",
    "    \"UBI.FP\": \"UBI.PA\",        # Unibail-Rodamco-Westfield (Paris)\n",
    "    \"AVV.LN\": \"AVV.L\",         # AVEVA Group (London)\n",
    "    \"2344.TT\": \"2344.TW\",      # Taiwanese stock\n",
    "    \"2337.TT\": \"2337.TW\",      # Taiwanese stock\n",
    "    \"8299.TT\": \"8299.TW\",      # Taiwanese stock\n",
    "    \"3665.TT\": \"3665.TW\",      # Taiwanese stock\n",
    "    \"3661.TT\": \"3661.TW\",      # Taiwanese stock\n",
    "    \"6502.JP\": \"6502.T\",       # Toshiba\n",
    "}\n",
    "\n",
    "\n",
    "def get_ipo_date(ticker):\n",
    "    try:\n",
    "        stock = yf.Ticker(ticker)\n",
    "        ipo_ts = stock.info.get(\"firstTradeDateEpochSeconds\", None)\n",
    "        if ipo_ts:\n",
    "            return pd.to_datetime(ipo_ts, unit=\"s\").date()\n",
    "        hist = stock.history(period=\"max\")\n",
    "        if not hist.empty:\n",
    "            return hist.index[0].date()\n",
    "    except Exception as e:\n",
    "        return None\n",
    "    return None\n",
    "\n",
    "def fix_ticker_format(ticker):\n",
    "    # Convert spaces to dots (Yahoo's format)\n",
    "    ticker = ticker.replace(\" \", \".\")\n",
    "    if ticker in manual_map:\n",
    "        return manual_map[ticker]\n",
    "    return ticker\n",
    "\n",
    "\n",
    "# Build dictionary\n",
    "ipo_dict = {}\n",
    "for ticker in tickers:\n",
    "    yf_ticker = fix_ticker_format(ticker)\n",
    "    ipo_dict[yf_ticker] = get_ipo_date(yf_ticker)\n",
    "\n",
    "\n",
    "print(ipo_dict)"
   ]
  },
  {
   "cell_type": "markdown",
   "id": "29afb9e2",
   "metadata": {},
   "source": [
    "### 🧾 Identify Delisted or Unavailable Tickers\n",
    "\n",
    "The following snippet filters out tickers whose IPO dates could not be retrieved\n",
    "(using the `ipo_dict` generated earlier).  \n",
    "These tickers are likely **delisted**, **acquired**, or **unavailable** on Yahoo Finance."
   ]
  },
  {
   "cell_type": "code",
   "execution_count": 4,
   "id": "0d7cf11c",
   "metadata": {},
   "outputs": [
    {
     "name": "stdout",
     "output_type": "stream",
     "text": [
      "Number of delisted tickers: 29\n",
      "Delisted or unavailable tickers: ['SPLK', 'TWTR', 'STM IM', 'XLNX', 'HEXAB SS', '6502 JP', 'NLOK', 'FEYE', 'ZEN', 'ENV', 'NUAN', 'NLSN', 'JNPR', 'SOW GR', 'LOGM', 'CSOD', 'PLAN', 'CLDR', '8299 TT', 'SMAR', 'DLG GR', 'ABMD', '4488 JP', '763 HK', 'AVV LN', 'EXAI', 'STMMI IM', '25557878D TT', 'HOLI']\n"
     ]
    }
   ],
   "source": [
    "delisted_tickers = []\n",
    "\n",
    "for ticker in tickers:\n",
    "    yf_ticker = fix_ticker_format(ticker)\n",
    "    if ipo_dict[yf_ticker] is None:\n",
    "        delisted_tickers.append(ticker)\n",
    "        ipo_dict.pop(yf_ticker, None)\n",
    "print('Number of delisted tickers:', len(delisted_tickers))\n",
    "print(\"Delisted or unavailable tickers:\", delisted_tickers)"
   ]
  },
  {
   "cell_type": "markdown",
   "id": "3b3dd9c9",
   "metadata": {},
   "source": [
    "### IPO Distribution Analysis  \n",
    "\n",
    "After extracting IPO dates for each ticker, we convert them into a DataFrame and analyze the distribution of IPOs over time.  \n",
    "To do this, we:  \n",
    "1. Convert the ticker–IPO date dictionary into a structured DataFrame.  \n",
    "2. Parse and standardize the IPO dates.  \n",
    "3. Extract the IPO year for each company.  \n",
    "4. Plot a histogram to visualize how many companies went public in each year.  \n",
    "\n",
    "This helps us understand whether most tickers are recent IPOs or if they have a long trading history — important when deciding which tickers to exclude for long-term analysis.  \n"
   ]
  },
  {
   "cell_type": "code",
   "execution_count": 5,
   "id": "6d6c8220",
   "metadata": {},
   "outputs": [
    {
     "data": {
      "image/png": "[encoded data removed]",
      "text/plain": [
       "<Figure size 1000x600 with 1 Axes>"
      ]
     },
     "metadata": {},
     "output_type": "display_data"
    }
   ],
   "source": [
    "# Convert dict → DataFrame\n",
    "IPO_date_df = pd.DataFrame(list(ipo_dict.items()), columns=[\"Ticker\", \"IPO_Date\"])\n",
    "IPO_date_df[\"IPO_Date\"] = pd.to_datetime(IPO_date_df[\"IPO_Date\"])\n",
    "\n",
    "# Extract just the year\n",
    "IPO_date_df[\"Year\"] = IPO_date_df[\"IPO_Date\"].dt.year\n",
    "\n",
    "# Histogram of IPOs per year\n",
    "plt.figure(figsize=(10,6))\n",
    "plt.hist(IPO_date_df[\"Year\"], bins=range(IPO_date_df[\"Year\"].min(), IPO_date_df[\"Year\"].max()+2), \n",
    "         color=\"skyblue\", edgecolor=\"black\", rwidth=0.9)\n",
    "\n",
    "plt.xlabel(\"IPO Year\", fontsize=12)\n",
    "plt.ylabel(\"Number of Companies\", fontsize=12)\n",
    "plt.title(\"Distribution of IPOs Over Time\", fontsize=15, fontweight=\"bold\")\n",
    "plt.grid(axis=\"y\", linestyle=\"--\", alpha=0.7)\n",
    "\n",
    "plt.tight_layout()\n",
    "plt.show()"
   ]
  },
  {
   "cell_type": "markdown",
   "id": "62704f51",
   "metadata": {},
   "source": [
    "### Cumulative IPO Counts for Key Years (2015–2025)\n",
    "\n",
    "In this section, we calculate the **cumulative number of tickers that IPO’d before selected years**: 2015, 2016, 2017, 2018, 2019, 2020, and 2025.  \n",
    "\n",
    "We chose these years because the **AI industry experienced a breakout period between 2015 and 2020**, marked by major advances in deep learning, the rise of large-scale datasets, and the deployment of AI into real-world applications.  \n",
    "By including 2025, we also capture the most recent cumulative state of IPOs in our dataset, allowing us to understand how the ticker universe expanded during and after this key period.  \n",
    "\n",
    "We will present the results in both a **table** and a **graph** to highlight how the number of available companies for analysis grew over time.\n"
   ]
  },
  {
   "cell_type": "code",
   "execution_count": 6,
   "id": "73dfa9e6",
   "metadata": {},
   "outputs": [
    {
     "data": {
      "text/html": [
       "<div>\n",
       "<style scoped>\n",
       "    .dataframe tbody tr th:only-of-type {\n",
       "        vertical-align: middle;\n",
       "    }\n",
       "\n",
       "    .dataframe tbody tr th {\n",
       "        vertical-align: top;\n",
       "    }\n",
       "\n",
       "    .dataframe thead th {\n",
       "        text-align: right;\n",
       "    }\n",
       "</style>\n",
       "<table border=\"1\" class=\"dataframe\">\n",
       "  <thead>\n",
       "    <tr style=\"text-align: right;\">\n",
       "      <th></th>\n",
       "      <th>Year</th>\n",
       "      <th>Cumulative_IPOs</th>\n",
       "    </tr>\n",
       "  </thead>\n",
       "  <tbody>\n",
       "    <tr>\n",
       "      <th>0</th>\n",
       "      <td>2015</td>\n",
       "      <td>110</td>\n",
       "    </tr>\n",
       "    <tr>\n",
       "      <th>1</th>\n",
       "      <td>2016</td>\n",
       "      <td>112</td>\n",
       "    </tr>\n",
       "    <tr>\n",
       "      <th>2</th>\n",
       "      <td>2017</td>\n",
       "      <td>115</td>\n",
       "    </tr>\n",
       "    <tr>\n",
       "      <th>3</th>\n",
       "      <td>2018</td>\n",
       "      <td>123</td>\n",
       "    </tr>\n",
       "    <tr>\n",
       "      <th>4</th>\n",
       "      <td>2019</td>\n",
       "      <td>129</td>\n",
       "    </tr>\n",
       "    <tr>\n",
       "      <th>5</th>\n",
       "      <td>2020</td>\n",
       "      <td>136</td>\n",
       "    </tr>\n",
       "    <tr>\n",
       "      <th>6</th>\n",
       "      <td>2025</td>\n",
       "      <td>165</td>\n",
       "    </tr>\n",
       "  </tbody>\n",
       "</table>\n",
       "</div>"
      ],
      "text/plain": [
       "   Year  Cumulative_IPOs\n",
       "0  2015              110\n",
       "1  2016              112\n",
       "2  2017              115\n",
       "3  2018              123\n",
       "4  2019              129\n",
       "5  2020              136\n",
       "6  2025              165"
      ]
     },
     "metadata": {},
     "output_type": "display_data"
    },
    {
     "data": {
      "image/png": "[encoded data removed]",
      "text/plain": [
       "<Figure size 800x500 with 1 Axes>"
      ]
     },
     "metadata": {},
     "output_type": "display_data"
    }
   ],
   "source": [
    "# Define target years\n",
    "target_years = [2015, 2016, 2017, 2018, 2019, 2020, 2025]\n",
    "\n",
    "# Count cumulative IPOs up to each year\n",
    "cumulative_counts = []\n",
    "for year in target_years:\n",
    "    count = (IPO_date_df[\"Year\"] <= year).sum()\n",
    "    cumulative_counts.append(count)\n",
    "\n",
    "# Create a DataFrame for display\n",
    "cum_df = pd.DataFrame({\n",
    "    \"Year\": target_years,\n",
    "    \"Cumulative_IPOs\": cumulative_counts\n",
    "})\n",
    "\n",
    "display(cum_df)\n",
    "\n",
    "# Plot cumulative IPOs over selected years\n",
    "plt.figure(figsize=(8,5))\n",
    "plt.plot(cum_df[\"Year\"], cum_df[\"Cumulative_IPOs\"], marker=\"o\", color=\"royalblue\", linewidth=2)\n",
    "\n",
    "plt.xlabel(\"Year\", fontsize=12)\n",
    "plt.ylabel(\"Cumulative Number of IPOs\", fontsize=12)\n",
    "plt.title(\"Cumulative IPOs Before Selected Years\", fontsize=14, fontweight=\"bold\")\n",
    "plt.grid(True, linestyle=\"--\", alpha=0.6)\n",
    "\n",
    "plt.show()\n"
   ]
  },
  {
   "cell_type": "markdown",
   "id": "560f575b",
   "metadata": {},
   "source": [
    "### Identifying Recently Listed Companies (2015–2025)\n",
    "\n",
    "In this step, we merge the IPO date information back with the original company names from our dataset.  \n",
    "By filtering for IPOs that occurred between **2015 and 2025**, we can highlight companies that only appeared in the market relatively recently.  \n",
    "\n",
    "This gives us **better insight into which stocks are “new players”** in the AI investment space. Such companies may not have long trading histories, which could introduce bias or distortions if we were to include them in a long-term performance analysis.  \n",
    "\n",
    "The resulting table provides a clear overview of these recent IPOs along with their company names and listing dates.\n"
   ]
  },
  {
   "cell_type": "code",
   "execution_count": 7,
   "id": "de0dd7ae",
   "metadata": {},
   "outputs": [
    {
     "name": "stdout",
     "output_type": "stream",
     "text": [
      "      Ticker                                       Name   IPO_Date\n",
      "1         FB                       FACEBOOK INC-CLASS A 2025-06-26\n",
      "2       SHOP                      SHOPIFY INC - CLASS A 2015-05-20\n",
      "3    3690.HK                                        NaN 2018-09-20\n",
      "21      UBER                      UBER TECHNOLOGIES INC 2019-05-10\n",
      "28      TWLO                             TWILIO INC - A 2016-06-23\n",
      "34      SNAP                               SNAP INC - A 2017-03-02\n",
      "37       TTD                           TRADE DESK INC-A 2016-09-21\n",
      "38      CRWD                           CROWDSTRIKE HO-A 2019-06-12\n",
      "42       HPE                              HEWLETT PACKA 2015-10-19\n",
      "47       TME                           TENCENT MUSI-ADR 2018-12-12\n",
      "50      STNE                              STONECO LTD-A 2018-10-25\n",
      "62      PSTG                             PURE STORAGE-A 2015-10-06\n",
      "66    ENR.DE                                        NaN 2020-09-29\n",
      "73      OKTA                                   OKTA INC 2017-04-07\n",
      "74        ZS                                ZSCALER INC 2018-03-16\n",
      "76      DDOG                      DATADOG INC - CLASS A 2019-09-19\n",
      "80       CAN                                 CANAAN INC 2019-11-20\n",
      "87      AFYA                           AFYA LTD-CLASS A 2019-07-19\n",
      "95      CGNT                       COGNYTE SOFTWARE LTD 2021-02-08\n",
      "100     CCCS                            CCC INTELLIGENT 2020-10-05\n",
      "101     INFA                  INFORMATICA INC - CLASS A 2021-10-27\n",
      "102  TEMN.SW                                        NaN 2025-04-14\n",
      "103     UPST                       UPSTART HOLDINGS INC 2020-12-16\n",
      "104     PATH                       UIPATH INC - CLASS A 2021-04-21\n",
      "105       AI                                C3.AI INC-A 2020-12-09\n",
      "106     IONQ                                   IONQ INC 2021-01-04\n",
      "109     PCOR                   PROCORE TECHNOLOGIES INC 2021-05-20\n",
      "110     FRSH                        FRESHWORKS INC-CL A 2021-09-22\n",
      "112       BZ                          KANZHUN LTD - ADR 2021-06-11\n",
      "113     GEHC                   GE HEALTHCARE TECHNOLOGY 2022-12-15\n",
      "114   6526.T                                        NaN 2022-10-12\n",
      "119     DOCU                               DOCUSIGN INC 2018-04-27\n",
      "121     PLTR                           PALANTIR TECHN-A 2020-09-30\n",
      "122      APP                      APPLOVIN CORP-CLASS A 2021-04-15\n",
      "124     SNOW                      SNOWFLAKE INC-CLASS A 2020-09-16\n",
      "127     SOUN                        SOUNDHOUND AI INC-A 2022-04-28\n",
      "128      HUT                                 HUT 8 CORP 2018-03-08\n",
      "129     CRWV                         COREWEAVE INC-CL A 2025-03-28\n",
      "130      WRD                             WERIDE INC-ADR 2024-10-25\n",
      "131     PONY                                PONY AI INC 2024-11-27\n",
      "135      ARM                           Arm Holdings plc 2023-09-14\n",
      "138     TEAM                      Atlassian Corporation 2015-12-09\n",
      "139      SYM                              Symbotic Inc. 2021-03-09\n",
      "141     ALAB                          Astera Labs, Inc. 2024-03-20\n",
      "144     TEMP                            Tempus AI, Inc. 2021-12-13\n",
      "147     BBAI                  BigBear.ai Holdings, Inc. 2021-04-05\n",
      "148     RXRX            Recursion Pharmaceuticals, Inc. 2021-04-16\n",
      "150      SPT                        Sprout Social, Inc. 2019-12-13\n",
      "151      YRD                         Yiren Digital Ltd. 2015-12-18\n",
      "152     REKR                        Rekor Systems, Inc. 2017-08-29\n",
      "153     PDYN                         Palladyne AI Corp. 2021-09-27\n",
      "155     AISP                  Airship AI Holdings, Inc. 2021-05-10\n",
      "156      OSS                     One Stop Systems, Inc. 2018-02-01\n",
      "157     KSCP                          Knightscope, Inc. 2022-01-27\n",
      "158     MDAI                          Spectral AI, Inc. 2021-04-06\n",
      "159     NMTC  NeuroOne Medical Technologies Corporation 2018-03-15\n",
      "160     RBOT                    Vicarious Surgical Inc. 2020-09-04\n",
      "161     GFAI                 Guardforce AI Co., Limited 2021-09-29\n",
      "162     KITT                    Nauticus Robotics, Inc. 2021-08-04\n",
      "163     ZPTA             Zapata Computing Holdings Inc. 2024-04-01\n"
     ]
    }
   ],
   "source": [
    "# Merge IPO info back with original company names\n",
    "ipo_with_names = IPO_date_df.merge(\n",
    "    top_holdings_df[[\"Ticker\", \"Name\"]],  # use original dataframe with names\n",
    "    on=\"Ticker\",\n",
    "    how=\"left\"\n",
    ")\n",
    "\n",
    "# Filter IPOs between 2020 and 2025\n",
    "recent_ipos = ipo_with_names[(ipo_with_names[\"Year\"] >= 2015) & (ipo_with_names[\"Year\"] <= 2025)]\n",
    "\n",
    "# Display as table\n",
    "print(recent_ipos[[\"Ticker\", \"Name\", \"IPO_Date\"]])"
   ]
  },
  {
   "cell_type": "code",
   "execution_count": 9,
   "id": "d5442673",
   "metadata": {},
   "outputs": [
    {
     "name": "stdout",
     "output_type": "stream",
     "text": [
      "✅ Merged file saved: D:\\MIT\\Develop_Workflow\\ELO2\\ai-bubble-research\\Data_collection\\Tickers\\merged_tickers_IPO.csv\n",
      "Total tickers processed: 194\n",
      "Found IPO years: 165\n",
      "Missing IPO years: 29\n"
     ]
    }
   ],
   "source": [
    "\n",
    "input_file = r\"D:\\MIT\\Develop_Workflow\\ELO2\\ai-bubble-research\\Data_collection\\Tickers\\merged_tickers.csv\"   # ← change this path\n",
    "output_file = os.path.join(os.path.dirname(input_file), \"merged_tickers_IPO.csv\")\n",
    "\n",
    "# LOAD EXISTING DATA \n",
    "df = pd.read_csv(input_file)\n",
    "\n",
    "# PROCESS EACH TICKER\n",
    "ipo_years = []\n",
    "\n",
    "for _, row in df.iterrows():\n",
    "    raw_ticker = row[\"Ticker\"]\n",
    "    fixed_ticker = fix_ticker_format(raw_ticker)\n",
    "    ipo_date = ipo_dict.get(fixed_ticker)\n",
    "    ipo_years.append(ipo_date.year if ipo_date else None)\n",
    "\n",
    "# Add the new IPO_Year column\n",
    "df[\"IPO_Year\"] = ipo_years\n",
    "\n",
    "# === SAVE TO NEW CSV ===\n",
    "df.to_csv(output_file, index=False)\n",
    "\n",
    "print(f\"✅ Merged file saved: {output_file}\")\n",
    "print(f\"Total tickers processed: {len(df)}\")\n",
    "print(f\"Found IPO years: {df['IPO_Year'].notna().sum()}\")\n",
    "print(f\"Missing IPO years: {df['IPO_Year'].isna().sum()}\")\n"
   ]
  }
 ],
 "metadata": {
  "kernelspec": {
   "display_name": "Python 3",
   "language": "python",
   "name": "python3"
  },
  "language_info": {
   "codemirror_mode": {
    "name": "ipython",
    "version": 3
   },
   "file_extension": ".py",
   "mimetype": "text/x-python",
   "name": "python",
   "nbconvert_exporter": "python",
   "pygments_lexer": "ipython3",
   "version": "3.9.12"
  }
 },
 "nbformat": 4,
 "nbformat_minor": 5
}
